{
 "cells": [
  {
   "cell_type": "code",
   "execution_count": 1,
   "metadata": {},
   "outputs": [],
   "source": [
    "import os \n",
    "os.chdir('C:/Users/jonat/Desktop/project.sub.ner/')"
   ]
  },
  {
   "cell_type": "code",
   "execution_count": 2,
   "metadata": {},
   "outputs": [
    {
     "name": "stderr",
     "output_type": "stream",
     "text": [
      "Using TensorFlow backend.\n"
     ]
    },
    {
     "name": "stdout",
     "output_type": "stream",
     "text": [
      "2.3.1\n"
     ]
    }
   ],
   "source": [
    "import numpy as np # linear algebra\n",
    "import pandas as pd # data processing, CSV file I/O (e.g. pd.read_csv)\n",
    "import keras\n",
    "print(keras.__version__)\n",
    "\n",
    "# Input data files are available in the \"../input/\" directory.\n",
    "# For example, running this (by clicking run or pressing Shift+Enter) will list the files in the input directory\n",
    "from math import nan\n",
    "from keras.callbacks import ModelCheckpoint\n",
    "from keras_contrib.layers import CRF"
   ]
  },
  {
   "cell_type": "code",
   "execution_count": 3,
   "metadata": {},
   "outputs": [
    {
     "name": "stdout",
     "output_type": "stream",
     "text": [
      "   sentence_idx       word    tag\n",
      "0             3          -  PUNCT\n",
      "1             3         ek   PRON\n",
      "2             3       dink   NOUN\n",
      "3             3  hiernatoe   PRON\n",
      "4             3        nee   VERB\n"
     ]
    }
   ],
   "source": [
    "df = pd.read_csv(\"csv/final.df.csv\", encoding = \"ISO-8859-1\", error_bad_lines=False)\n",
    "df=df.drop(['token_upos', 'sent_upos', 'freq.verb', 'freq.noun', 'freq.adj'],axis=1)\n",
    "df.columns = ['sentence_idx', 'word', 'tag']\n",
    "print(df.head())"
   ]
  },
  {
   "cell_type": "code",
   "execution_count": 4,
   "metadata": {},
   "outputs": [
    {
     "name": "stdout",
     "output_type": "stream",
     "text": [
      "(109987, 3)\n",
      "PRON     18458\n",
      "NOUN     16353\n",
      "PUNCT    10967\n",
      "VERB     10826\n",
      "AUX      10788\n",
      "ADV       9145\n",
      "ADP       8666\n",
      "DET       7963\n",
      "ADJ       6491\n",
      "CCONJ     3145\n",
      "PART      2689\n",
      "SCONJ     2653\n",
      "NUM        767\n",
      "SYM        566\n",
      "X          484\n",
      "PROPN       26\n",
      "Name: tag, dtype: int64\n"
     ]
    }
   ],
   "source": [
    "print(df.shape)\n",
    "print(df['tag'].value_counts())"
   ]
  },
  {
   "cell_type": "code",
   "execution_count": 5,
   "metadata": {},
   "outputs": [],
   "source": [
    "class SentenceGetter(object):\n",
    "    \n",
    "    def __init__(self, dataset):\n",
    "        self.n_sent = 1\n",
    "        self.dataset = dataset\n",
    "        self.empty = False\n",
    "        agg_func = lambda s: [(w, t) for w,t in zip(s[\"word\"].values.tolist(),\n",
    "                                                        s[\"tag\"].values.tolist())]\n",
    "        self.grouped = self.dataset.groupby(\"sentence_idx\").apply(agg_func)\n",
    "        self.sentences = [s for s in self.grouped]\n",
    "    \n",
    "    def get_next(self):\n",
    "        try:\n",
    "            s = self.grouped[\"Sentence: {}\".format(self.n_sent)]\n",
    "            self.n_sent += 1\n",
    "            return s\n",
    "        except:\n",
    "            return None\n",
    "          \n",
    "getter = SentenceGetter(df)\n",
    "sentences = getter.sentences"
   ]
  },
  {
   "cell_type": "code",
   "execution_count": 6,
   "metadata": {},
   "outputs": [
    {
     "name": "stdout",
     "output_type": "stream",
     "text": [
      "[('maar', 'CCONJ'), ('hy', 'PRON'), ('is', 'AUX'), ('hardekop', 'VERB'), ('en', 'CCONJ'), ('dislojaal', 'VERB'), ('wat', 'PRON'), ('meer', 'DET'), ('is', 'AUX'), (',', 'PUNCT'), ('hy', 'PRON'), ('verteenwoordig', 'VERB'), (\"'n\", 'DET'), ('baie', 'DET'), ('sterk', 'ADJ'), ('groep', 'NOUN'), ('hy', 'PRON'), ('is', 'AUX'), ('die', 'DET'), ('hoof', 'NOUN'), ('van', 'ADP'), ('die', 'DET'), ('sterkste', 'ADJ'), ('weerstandsgroep', 'NOUN'), ('in', 'ADP'), ('die', 'DET'), ('land', 'NOUN'), ('dis', 'ADV'), ('hoekom', 'AUX'), ('ek', 'PRON'), ('met', 'ADP'), ('hom', 'PRON'), ('wil', 'AUX'), ('praat', 'VERB'), ('daar', 'PRON'), ('moet', 'AUX'), (\"'n\", 'DET'), ('manier', 'NOUN'), ('wees', 'AUX'), ('om', 'ADP'), ('mekaar', 'PRON'), ('te', 'PART'), ('kan', 'AUX'), ('verstaan', 'VERB'), ('u', 'PRON'), ('koninglike', 'ADJ'), ('hoogheid', 'NOUN'), ('sien', 'VERB'), ('alreeds', 'ADV'), ('dat', 'SCONJ'), ('hy', 'PRON'), ('selfs', 'ADV'), ('die', 'DET'), ('uitnodiging', 'NOUN'), ('van', 'ADP'), ('sy', 'PRON'), ('koningin', 'ADJ'), ('verontagsaam', 'NOUN'), ('nooi', 'VERB'), ('hom', 'PRON'), ('na', 'ADP'), ('u', 'PRON'), ('kasteel', 'NOUN'), (',', 'PUNCT'), ('graaf', 'VERB'), ('andrassy', 'SCONJ'), ('ek', 'PRON'), ('sal', 'AUX'), ('hom', 'PRON'), ('ontmoet', 'NOUN'), ('op', 'ADP'), ('neutrale', 'ADJ'), ('grond', 'NOUN'), ('sal', 'AUX'), ('u', 'PRON'), ('majesteit', 'PRON'), ('my', 'PRON'), ('vereer', 'VERB'), ('deur', 'ADP'), (\"'n\", 'DET'), ('gas', 'NOUN'), ('in', 'ADP'), ('my', 'PRON'), ('kasteel', 'NOUN'), ('te', 'PART'), ('wees?', 'PUNCT')]\n"
     ]
    }
   ],
   "source": [
    "print(sentences[2])"
   ]
  },
  {
   "cell_type": "code",
   "execution_count": 7,
   "metadata": {},
   "outputs": [
    {
     "name": "stdout",
     "output_type": "stream",
     "text": [
      "Maximum sequence length: 415\n"
     ]
    }
   ],
   "source": [
    "maxlen = max([len(s) for s in sentences])\n",
    "print ('Maximum sequence length:', maxlen)"
   ]
  },
  {
   "cell_type": "code",
   "execution_count": 8,
   "metadata": {},
   "outputs": [
    {
     "data": {
      "image/png": "[encoded data removed]",
      "text/plain": [
       "<Figure size 432x288 with 1 Axes>"
      ]
     },
     "metadata": {},
     "output_type": "display_data"
    }
   ],
   "source": [
    "# Check how long sentences are so that we can pad them\n",
    "import matplotlib.pyplot as plt\n",
    "%matplotlib inline\n",
    "plt.style.use(\"ggplot\")\n",
    "plt.hist([len(s) for s in sentences], bins=50)\n",
    "plt.show()"
   ]
  },
  {
   "cell_type": "code",
   "execution_count": 9,
   "metadata": {},
   "outputs": [
    {
     "name": "stdout",
     "output_type": "stream",
     "text": [
      "10049\n",
      "16\n"
     ]
    }
   ],
   "source": [
    "from math import nan\n",
    "\n",
    "words = list(set(df[\"word\"].values))\n",
    "words.append(\"ENDPAD\")\n",
    "n_words = len(words)\n",
    "print(n_words)\n",
    "\n",
    "tags = []\n",
    "for tag in set(df[\"tag\"].values):\n",
    "    if tag is nan or isinstance(tag, float):\n",
    "        tags.append('unk')\n",
    "    else:\n",
    "        tags.append(tag)\n",
    "n_tags = len(tags)\n",
    "print(n_tags)"
   ]
  },
  {
   "cell_type": "code",
   "execution_count": 10,
   "metadata": {},
   "outputs": [],
   "source": [
    "from future.utils import iteritems\n",
    "\n",
    "word2idx = {w: i for i, w in enumerate(words)}\n",
    "tag2idx = {t: i for i, t in enumerate(tags)}\n",
    "idx2tag = {v: k for k, v in iteritems(tag2idx)}"
   ]
  },
  {
   "cell_type": "code",
   "execution_count": 11,
   "metadata": {},
   "outputs": [
    {
     "name": "stdout",
     "output_type": "stream",
     "text": [
      "{'getriomfeer': 0, 'afgeskiet': 1}\n",
      "{'ADP': 0, 'SCONJ': 1}\n",
      "{0: 'ADP', 1: 'SCONJ'}\n"
     ]
    }
   ],
   "source": [
    "print(dict(list(word2idx.items())[0:2]))\n",
    "print(dict(list(tag2idx.items())[0:2]))\n",
    "print(dict(list(idx2tag.items())[0:2]))"
   ]
  },
  {
   "cell_type": "code",
   "execution_count": 34,
   "metadata": {},
   "outputs": [
    {
     "name": "stdout",
     "output_type": "stream",
     "text": [
      "X size:  764845\n",
      "y size:  1843\n",
      "(1474, 415)\n",
      "1474\n"
     ]
    }
   ],
   "source": [
    "from keras.preprocessing.sequence import pad_sequences\n",
    "from keras.utils import to_categorical\n",
    "from sklearn.model_selection import train_test_split\n",
    "\n",
    "maxlen = max([len(s) for s in sentences])\n",
    "\n",
    "X = [[word2idx[w[0]] for w in s] for s in sentences]\n",
    "X = pad_sequences(maxlen=maxlen, sequences=X, padding=\"post\",value=n_words - 1)\n",
    "print(\"X size: \", X.size)\n",
    "\n",
    "y = [[tag2idx[w[1]] for w in s] for s in sentences]\n",
    "y = pad_sequences(maxlen=maxlen, sequences=y, padding=\"post\", value=tag2idx['VERB'])\n",
    "y = [to_categorical(i, num_classes=n_tags) for i in y]\n",
    "print(\"y size: \", len(y))\n",
    "\n",
    "# Split train and test data\n",
    "X_train, X_test, y_train, y_test = train_test_split(X, y, test_size=0.2)\n",
    "print(X_train.shape)\n",
    "print(len(y_train))"
   ]
  },
  {
   "cell_type": "code",
   "execution_count": 35,
   "metadata": {},
   "outputs": [],
   "source": [
    "from keras.models import Model, Input\n",
    "from keras.layers import LSTM, Embedding, Dense, TimeDistributed, Dropout, Bidirectional\n",
    "from keras import regularizers\n",
    "import keras as k\n",
    "from keras_contrib.layers import CRF\n",
    "\n",
    "input = Input(shape=(X_train.shape[1],))\n",
    "word_embedding_size = 300\n",
    "\n",
    "# Embedding Layer\n",
    "model = Embedding(input_dim=n_words, output_dim=word_embedding_size, input_length=X_train.shape[1])(input)\n",
    "\n",
    "# BI-LSTM Layer\n",
    "model = Bidirectional(LSTM(units=word_embedding_size, \n",
    "                           return_sequences=True, \n",
    "                           dropout=0.5, \n",
    "                           recurrent_dropout=0.5, \n",
    "                           kernel_initializer=k.initializers.he_normal()))(model)\n",
    "model = LSTM(units=word_embedding_size * 2, \n",
    "             return_sequences=True, \n",
    "             dropout=0.5, \n",
    "             recurrent_dropout=0.5, \n",
    "             kernel_initializer=k.initializers.he_normal())(model)\n",
    "\n",
    "# TimeDistributed Layer\n",
    "model = TimeDistributed(Dense(n_tags, activation=\"relu\"))(model)  \n",
    "\n",
    "# CRF Layer\n",
    "crf = CRF(n_tags)\n",
    "\n",
    "out = crf(model)  # output\n",
    "model = Model(input, out)"
   ]
  },
  {
   "cell_type": "code",
   "execution_count": 36,
   "metadata": {},
   "outputs": [
    {
     "name": "stderr",
     "output_type": "stream",
     "text": [
      "C:\\Users\\jonat\\Anaconda3\\lib\\site-packages\\keras_contrib\\layers\\crf.py:346: UserWarning: CRF.loss_function is deprecated and it might be removed in the future. Please use losses.crf_loss instead.\n",
      "  warnings.warn('CRF.loss_function is deprecated '\n",
      "C:\\Users\\jonat\\Anaconda3\\lib\\site-packages\\keras_contrib\\layers\\crf.py:353: UserWarning: CRF.accuracy is deprecated and it might be removed in the future. Please use metrics.crf_accuracy\n",
      "  warnings.warn('CRF.accuracy is deprecated and it '\n"
     ]
    },
    {
     "name": "stdout",
     "output_type": "stream",
     "text": [
      "Model: \"model_3\"\n",
      "_________________________________________________________________\n",
      "Layer (type)                 Output Shape              Param #   \n",
      "=================================================================\n",
      "input_4 (InputLayer)         (None, 415)               0         \n",
      "_________________________________________________________________\n",
      "embedding_4 (Embedding)      (None, 415, 300)          3014700   \n",
      "_________________________________________________________________\n",
      "bidirectional_3 (Bidirection (None, 415, 600)          1442400   \n",
      "_________________________________________________________________\n",
      "lstm_6 (LSTM)                (None, 415, 600)          2882400   \n",
      "_________________________________________________________________\n",
      "time_distributed_3 (TimeDist (None, 415, 16)           9616      \n",
      "_________________________________________________________________\n",
      "crf_3 (CRF)                  (None, 415, 16)           560       \n",
      "=================================================================\n",
      "Total params: 7,349,676\n",
      "Trainable params: 7,349,676\n",
      "Non-trainable params: 0\n",
      "_________________________________________________________________\n",
      "Train on 1179 samples, validate on 295 samples\n",
      "Epoch 1/10\n",
      "1179/1179 [==============================] - 510s 433ms/step - loss: 1.8169 - crf_viterbi_accuracy: 0.5290 - accuracy: 0.0109 - val_loss: 0.4570 - val_crf_viterbi_accuracy: 0.8675 - val_accuracy: 0.8648\n",
      "\n",
      "Epoch 00001: val_accuracy improved from -inf to 0.86481, saving model to ner-bi-lstm-td-model-0.86.hdf5\n",
      "Epoch 2/10\n",
      "1179/1179 [==============================] - 505s 428ms/step - loss: 0.4246 - crf_viterbi_accuracy: 0.8737 - accuracy: 0.0109 - val_loss: 0.4109 - val_crf_viterbi_accuracy: 0.8734 - val_accuracy: 0.8711\n",
      "\n",
      "Epoch 00002: val_accuracy improved from 0.86481 to 0.87107, saving model to ner-bi-lstm-td-model-0.87.hdf5\n",
      "Epoch 3/10\n",
      "1179/1179 [==============================] - 482s 408ms/step - loss: 0.3746 - crf_viterbi_accuracy: 0.8806 - accuracy: 0.0109 - val_loss: 0.3925 - val_crf_viterbi_accuracy: 0.8755 - val_accuracy: 0.8732\n",
      "\n",
      "Epoch 00003: val_accuracy improved from 0.87107 to 0.87323, saving model to ner-bi-lstm-td-model-0.87.hdf5\n",
      "Epoch 4/10\n",
      "1179/1179 [==============================] - 470s 399ms/step - loss: 0.3561 - crf_viterbi_accuracy: 0.8821 - accuracy: 0.0109 - val_loss: 0.3743 - val_crf_viterbi_accuracy: 0.8745 - val_accuracy: 0.8718\n",
      "\n",
      "Epoch 00004: val_accuracy did not improve from 0.87323\n",
      "Epoch 5/10\n",
      "1179/1179 [==============================] - 469s 398ms/step - loss: 0.3439 - crf_viterbi_accuracy: 0.8833 - accuracy: 0.0109 - val_loss: 0.3620 - val_crf_viterbi_accuracy: 0.8782 - val_accuracy: 0.8753\n",
      "\n",
      "Epoch 00005: val_accuracy improved from 0.87323 to 0.87526, saving model to ner-bi-lstm-td-model-0.88.hdf5\n",
      "Epoch 6/10\n",
      "1179/1179 [==============================] - 477s 405ms/step - loss: 0.3319 - crf_viterbi_accuracy: 0.8889 - accuracy: 0.0109 - val_loss: 0.3457 - val_crf_viterbi_accuracy: 0.8861 - val_accuracy: 0.8841\n",
      "\n",
      "Epoch 00006: val_accuracy improved from 0.87526 to 0.88412, saving model to ner-bi-lstm-td-model-0.88.hdf5\n",
      "Epoch 7/10\n",
      "1179/1179 [==============================] - 486s 412ms/step - loss: 0.3160 - crf_viterbi_accuracy: 0.8947 - accuracy: 0.0109 - val_loss: 0.3264 - val_crf_viterbi_accuracy: 0.8897 - val_accuracy: 0.8880\n",
      "\n",
      "Epoch 00007: val_accuracy improved from 0.88412 to 0.88805, saving model to ner-bi-lstm-td-model-0.89.hdf5\n",
      "Epoch 8/10\n",
      "1179/1179 [==============================] - 482s 408ms/step - loss: 0.2975 - crf_viterbi_accuracy: 0.8993 - accuracy: 0.0109 - val_loss: 0.2972 - val_crf_viterbi_accuracy: 0.8966 - val_accuracy: 0.8945\n",
      "\n",
      "Epoch 00008: val_accuracy improved from 0.88805 to 0.89448, saving model to ner-bi-lstm-td-model-0.89.hdf5\n",
      "Epoch 9/10\n",
      "1179/1179 [==============================] - 484s 411ms/step - loss: 0.2676 - crf_viterbi_accuracy: 0.9037 - accuracy: 0.0109 - val_loss: 0.2723 - val_crf_viterbi_accuracy: 0.9021 - val_accuracy: 0.9007\n",
      "\n",
      "Epoch 00009: val_accuracy improved from 0.89448 to 0.90067, saving model to ner-bi-lstm-td-model-0.90.hdf5\n",
      "Epoch 10/10\n",
      "1179/1179 [==============================] - 487s 413ms/step - loss: 0.2463 - crf_viterbi_accuracy: 0.9104 - accuracy: 0.0109 - val_loss: 0.2584 - val_crf_viterbi_accuracy: 0.9092 - val_accuracy: 0.9079\n",
      "\n",
      "Epoch 00010: val_accuracy improved from 0.90067 to 0.90787, saving model to ner-bi-lstm-td-model-0.91.hdf5\n"
     ]
    }
   ],
   "source": [
    "from keras.callbacks import ModelCheckpoint\n",
    "import matplotlib.pyplot as plt\n",
    "\n",
    "#Optimiser \n",
    "adam = k.optimizers.Adam(learning_rate=0.006, beta_1=0.9, beta_2=0.999, epsilon=1e-07)\n",
    "\n",
    "# Compile model\n",
    "model.compile(optimizer=adam, loss=crf.loss_function, metrics=[crf.accuracy, 'accuracy'])\n",
    "\n",
    "model.summary()\n",
    "\n",
    "# Saving the best model only\n",
    "filepath=\"ner-bi-lstm-td-model-{val_accuracy:.2f}.hdf5\"\n",
    "checkpoint = ModelCheckpoint(filepath, monitor='val_accuracy', verbose=1, save_best_only=True, mode='max')\n",
    "callbacks_list = [checkpoint]\n",
    "\n",
    "# Fit the best model\n",
    "history = model.fit(X_train, np.array(y_train), batch_size=256, epochs=10, validation_split=0.2, verbose=1, callbacks=callbacks_list)"
   ]
  },
  {
   "cell_type": "code",
   "execution_count": 28,
   "metadata": {},
   "outputs": [
    {
     "data": {
      "image/png": "[encoded data removed]",
      "text/plain": [
       "<Figure size 864x360 with 2 Axes>"
      ]
     },
     "metadata": {},
     "output_type": "display_data"
    }
   ],
   "source": [
    "# Plot the graph \n",
    "plt.style.use('ggplot')\n",
    "\n",
    "def plot_history(history):\n",
    "    acc = history.history['accuracy']\n",
    "    val_acc = history.history['val_accuracy']\n",
    "    loss = history.history['loss']\n",
    "    val_loss = history.history['val_loss']\n",
    "    x = range(1, len(acc) + 1)\n",
    "\n",
    "    plt.figure(figsize=(12, 5))\n",
    "    plt.subplot(1, 2, 1)\n",
    "    plt.plot(x, acc, 'b', label='Training acc')\n",
    "    plt.plot(x, val_acc, 'r', label='Validation acc')\n",
    "    plt.title('Training and validation accuracy')\n",
    "    plt.legend()\n",
    "    plt.subplot(1, 2, 2)\n",
    "    plt.plot(x, loss, 'b', label='Training loss')\n",
    "    plt.plot(x, val_loss, 'r', label='Validation loss')\n",
    "    plt.title('Training and validation loss')\n",
    "    plt.legend()\n",
    "\n",
    "plot_history(history)"
   ]
  },
  {
   "cell_type": "code",
   "execution_count": 29,
   "metadata": {},
   "outputs": [
    {
     "name": "stdout",
     "output_type": "stream",
     "text": [
      "369/369 [==============================] - 114s 310ms/step\n"
     ]
    }
   ],
   "source": [
    "def pred2label(pred):\n",
    "    out = []\n",
    "    for pred_i in pred:\n",
    "        out_i = []\n",
    "        for p in pred_i:\n",
    "            p_i = np.argmax(p)\n",
    "            out_i.append(idx2tag[p_i])\n",
    "        out.append(out_i)\n",
    "    return out\n",
    "test_pred = model.predict(X_test, verbose=1)   \n",
    "pred_labels = pred2label(test_pred)\n",
    "test_labels = pred2label(y_test)"
   ]
  },
  {
   "cell_type": "code",
   "execution_count": 32,
   "metadata": {},
   "outputs": [
    {
     "name": "stdout",
     "output_type": "stream",
     "text": [
      "F1-score: 48.7%\n"
     ]
    }
   ],
   "source": [
    "from seqeval.metrics import precision_score, recall_score, f1_score, classification_report\n",
    "print(\"F1-score: {:.1%}\".format(f1_score(test_labels, pred_labels)))"
   ]
  },
  {
   "cell_type": "code",
   "execution_count": 33,
   "metadata": {},
   "outputs": [
    {
     "name": "stderr",
     "output_type": "stream",
     "text": [
      "C:\\Users\\jonat\\AppData\\Roaming\\Python\\Python37\\site-packages\\sklearn\\metrics\\classification.py:1437: UndefinedMetricWarning: Precision and F-score are ill-defined and being set to 0.0 in labels with no predicted samples.\n",
      "  'precision', 'predicted', average, warn_for)\n"
     ]
    },
    {
     "name": "stdout",
     "output_type": "stream",
     "text": [
      "              precision    recall  f1-score   support\n",
      "\n",
      "         ADJ       0.44      0.06      0.11      1296\n",
      "         ADP       0.99      0.99      0.99    132924\n",
      "         ADV       0.33      0.01      0.03      1893\n",
      "         AUX       0.45      0.54      0.49      2136\n",
      "       CCONJ       0.00      0.00      0.00       647\n",
      "         DET       0.80      0.85      0.82      1537\n",
      "        NOUN       0.54      0.77      0.63      3210\n",
      "         NUM       0.00      0.00      0.00       173\n",
      "        PART       0.00      0.00      0.00       560\n",
      "        PRON       0.50      0.87      0.63      3627\n",
      "       PROPN       0.00      0.00      0.00         2\n",
      "       PUNCT       0.57      0.75      0.65      2233\n",
      "       SCONJ       0.00      0.00      0.00       526\n",
      "         SYM       0.00      0.00      0.00       122\n",
      "        VERB       0.42      0.36      0.38      2126\n",
      "           X       0.00      0.00      0.00       123\n",
      "\n",
      "    accuracy                           0.93    153135\n",
      "   macro avg       0.31      0.33      0.30    153135\n",
      "weighted avg       0.92      0.93      0.92    153135\n",
      "\n"
     ]
    }
   ],
   "source": [
    "from  sklearn_crfsuite.metrics import flat_classification_report  \n",
    "report = flat_classification_report(y_pred=pred_labels, y_true=test_labels)\n",
    "print(report)"
   ]
  },
  {
   "cell_type": "code",
   "execution_count": 20,
   "metadata": {},
   "outputs": [],
   "source": [
    "TP = {}\n",
    "TN = {}\n",
    "FP = {}\n",
    "FN = {}\n",
    "for tag in tag2idx.keys():\n",
    "    TP[tag] = 0\n",
    "    TN[tag] = 0    \n",
    "    FP[tag] = 0    \n",
    "    FN[tag] = 0    \n",
    "\n",
    "def accumulate_score_by_tag(gt, pred):\n",
    "    \"\"\"\n",
    "    For each tag keep stats\n",
    "    \"\"\"\n",
    "    if gt == pred:\n",
    "        TP[gt] += 1\n",
    "    elif gt != 'O' and pred == 'O':\n",
    "        FN[gt] +=1\n",
    "    elif gt == 'O' and pred != 'O':\n",
    "        FP[gt] += 1\n",
    "    else:\n",
    "        TN[gt] += 1"
   ]
  },
  {
   "cell_type": "code",
   "execution_count": 21,
   "metadata": {},
   "outputs": [],
   "source": [
    "for i, sentence in enumerate(X_test):\n",
    "    y_hat = np.argmax(test_pred[0], axis=-1)\n",
    "    gt = np.argmax(y_test[0], axis=-1)\n",
    "    for idx, (w,pred) in enumerate(zip(sentence,y_hat)):\n",
    "        accumulate_score_by_tag(idx2tag[gt[idx]],tags[pred])"
   ]
  },
  {
   "cell_type": "code",
   "execution_count": 22,
   "metadata": {},
   "outputs": [
    {
     "name": "stdout",
     "output_type": "stream",
     "text": [
      "tag:ADP\n",
      "\t TN:      1107\tFP:         0\n",
      "\t FN:         0\tTP:         0\n",
      "tag:SCONJ\n",
      "\t TN:      1107\tFP:         0\n",
      "\t FN:         0\tTP:    141327\n",
      "tag:X\n",
      "\t TN:         0\tFP:         0\n",
      "\t FN:         0\tTP:         0\n",
      "tag:AUX\n",
      "\t TN:      1107\tFP:         0\n",
      "\t FN:         0\tTP:         0\n",
      "tag:PROPN\n",
      "\t TN:         0\tFP:         0\n",
      "\t FN:         0\tTP:         0\n",
      "tag:PART\n",
      "\t TN:       369\tFP:         0\n",
      "\t FN:         0\tTP:         0\n",
      "tag:NUM\n",
      "\t TN:         0\tFP:         0\n",
      "\t FN:         0\tTP:         0\n",
      "tag:VERB\n",
      "\t TN:      1107\tFP:         0\n",
      "\t FN:         0\tTP:         0\n",
      "tag:CCONJ\n",
      "\t TN:         0\tFP:         0\n",
      "\t FN:         0\tTP:         0\n",
      "tag:SYM\n",
      "\t TN:         0\tFP:         0\n",
      "\t FN:         0\tTP:         0\n",
      "tag:ADV\n",
      "\t TN:       738\tFP:         0\n",
      "\t FN:         0\tTP:         0\n",
      "tag:NOUN\n",
      "\t TN:       738\tFP:         0\n",
      "\t FN:         0\tTP:       369\n",
      "tag:DET\n",
      "\t TN:      1107\tFP:         0\n",
      "\t FN:         0\tTP:         0\n",
      "tag:PUNCT\n",
      "\t TN:       738\tFP:         0\n",
      "\t FN:         0\tTP:       369\n",
      "tag:PRON\n",
      "\t TN:      1476\tFP:         0\n",
      "\t FN:         0\tTP:       738\n",
      "tag:ADJ\n",
      "\t TN:       738\tFP:         0\n",
      "\t FN:         0\tTP:         0\n"
     ]
    }
   ],
   "source": [
    "for tag in tag2idx.keys():\n",
    "    print(f'tag:{tag}')    \n",
    "    print('\\t TN:{:10}\\tFP:{:10}'.format(TN[tag],FP[tag]))\n",
    "    print('\\t FN:{:10}\\tTP:{:10}'.format(FN[tag],TP[tag]))   "
   ]
  },
  {
   "cell_type": "code",
   "execution_count": null,
   "metadata": {},
   "outputs": [],
   "source": []
  }
 ],
 "metadata": {
  "kernelspec": {
   "display_name": "Python 3",
   "language": "python",
   "name": "python3"
  },
  "language_info": {
   "codemirror_mode": {
    "name": "ipython",
    "version": 3
   },
   "file_extension": ".py",
   "mimetype": "text/x-python",
   "name": "python",
   "nbconvert_exporter": "python",
   "pygments_lexer": "ipython3",
   "version": "3.7.0"
  }
 },
 "nbformat": 4,
 "nbformat_minor": 2
}
